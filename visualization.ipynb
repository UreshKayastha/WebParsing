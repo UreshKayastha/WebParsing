{
 "cells": [
  {
   "attachments": {},
   "cell_type": "markdown",
   "metadata": {},
   "source": [
    "The correlation between two variables indicates the strength and direction of a linear relationship between them. A correlation of 1 indicates a strong positive linear relationship, a correlation of -1 indicates a strong negative linear relationship, and a correlation of 0 indicates no linear relationship.\n",
    "\n",
    "In the case of the stock confidence and close price percentage change, the correlation will tell you how strongly the stock confidence is related to the change in close price from one day to the next. If the correlation is positive, it means that as stock confidence increases, the close price is more likely to increase as well. If the correlation is negative, it means that as stock confidence increases, the close price is more likely to decrease. If the correlation is close to 0, it means that there is no strong relationship between stock confidence and close price percentage change."
   ]
  },
  {
   "cell_type": "code",
   "execution_count": 1,
   "metadata": {},
   "outputs": [
    {
     "name": "stdout",
     "output_type": "stream",
     "text": [
      "Correlation between volume and close price: -0.14\n",
      "count      258.000000\n",
      "mean       719.044651\n",
      "std       1844.023543\n",
      "min          7.140000\n",
      "25%        270.250000\n",
      "50%        414.500000\n",
      "75%        688.000000\n",
      "max      21500.000000\n",
      "Name: close_price, dtype: float64\n"
     ]
    },
    {
     "data": {
      "application/vnd.plotly.v1+json": {
       "config": {
        "plotlyServerURL": "https://plot.ly"
       },
       "data": [
        {
         "alignmentgroup": "True",
         "bingroup": "x",
         "hovertemplate": "variable=close_price<br>value=%{x}<br>count=%{y}<extra></extra>",
         "legendgroup": "close_price",
         "marker": {
          "color": "#636efa",
          "pattern": {
           "shape": ""
          }
         },
         "name": "close_price",
         "offsetgroup": "close_price",
         "orientation": "v",
         "showlegend": true,
         "type": "histogram",
         "x": [
          598,
          247.3,
          915,
          1270,
          437.2,
          303,
          477,
          227.7,
          405,
          710,
          622,
          262.5,
          615,
          269,
          3265,
          326,
          436,
          333.8,
          504,
          423,
          12244.2,
          745,
          319.2,
          780,
          835,
          312,
          1145,
          477.4,
          725,
          322.6,
          2057,
          615,
          7.37,
          7.21,
          305,
          180,
          685,
          228.9,
          754,
          310.7,
          490,
          313,
          447.4,
          660,
          534,
          1235,
          804.5,
          355.1,
          185.5,
          480,
          454,
          270,
          8.24,
          703.9,
          727.7,
          295,
          425,
          754,
          316,
          261,
          510,
          429,
          227.1,
          224,
          1980,
          423,
          285.1,
          296.5,
          197,
          100.6,
          300,
          336.2,
          422,
          395,
          637,
          1978,
          272.9,
          1585.1,
          372,
          274,
          896,
          174.9,
          901,
          8.1,
          166.1,
          8.16,
          248.1,
          974,
          649.7,
          780,
          415,
          392.9,
          271,
          313,
          330,
          182,
          750,
          275,
          7.94,
          1345.9,
          716,
          8.05,
          317,
          221.8,
          368.9,
          785,
          569,
          444,
          384,
          304,
          342,
          440,
          704,
          735,
          316,
          770,
          2015,
          7.34,
          604.1,
          398,
          327.5,
          825,
          400,
          606.5,
          537,
          7.99,
          7.4,
          259.9,
          750.3,
          755.9,
          8.54,
          2249.9,
          301,
          278,
          404,
          245,
          8.55,
          7.29,
          689,
          7.63,
          9,
          520,
          580.4,
          7.75,
          218.2,
          750,
          191,
          166.2,
          627.3,
          596,
          653,
          564,
          223,
          9.26,
          9.78,
          560,
          1395,
          766,
          465,
          746,
          813,
          599,
          328.6,
          529,
          805.1,
          199.3,
          370,
          362,
          396.7,
          420,
          414,
          245,
          348.4,
          309,
          485,
          323,
          174.2,
          7.75,
          265,
          12465,
          10977,
          298,
          327,
          310.5,
          347,
          307,
          707.9,
          7.55,
          504.9,
          647,
          755,
          635,
          296.9,
          10.19,
          7.63,
          537,
          240,
          248.5,
          7.14,
          310,
          915,
          260,
          505,
          699.9,
          8.1,
          294.1,
          9.7,
          385,
          451,
          335,
          324,
          429,
          228.8,
          1313.3,
          333,
          752,
          320,
          8,
          455,
          265,
          309,
          448,
          822,
          579,
          915,
          7.36,
          600,
          920,
          1000,
          850.6,
          473.1,
          392,
          483.9,
          306.7,
          435,
          544,
          181.4,
          233,
          3920,
          760,
          690,
          425.1,
          463,
          420,
          438,
          1390,
          396,
          254,
          502,
          238,
          21500,
          1700,
          255,
          472,
          357,
          698,
          769,
          798
         ],
         "xaxis": "x",
         "yaxis": "y"
        }
       ],
       "layout": {
        "barmode": "relative",
        "legend": {
         "title": {
          "text": "variable"
         },
         "tracegroupgap": 0
        },
        "margin": {
         "t": 60
        },
        "template": {
         "data": {
          "bar": [
           {
            "error_x": {
             "color": "#2a3f5f"
            },
            "error_y": {
             "color": "#2a3f5f"
            },
            "marker": {
             "line": {
              "color": "#E5ECF6",
              "width": 0.5
             },
             "pattern": {
              "fillmode": "overlay",
              "size": 10,
              "solidity": 0.2
             }
            },
            "type": "bar"
           }
          ],
          "barpolar": [
           {
            "marker": {
             "line": {
              "color": "#E5ECF6",
              "width": 0.5
             },
             "pattern": {
              "fillmode": "overlay",
              "size": 10,
              "solidity": 0.2
             }
            },
            "type": "barpolar"
           }
          ],
          "carpet": [
           {
            "aaxis": {
             "endlinecolor": "#2a3f5f",
             "gridcolor": "white",
             "linecolor": "white",
             "minorgridcolor": "white",
             "startlinecolor": "#2a3f5f"
            },
            "baxis": {
             "endlinecolor": "#2a3f5f",
             "gridcolor": "white",
             "linecolor": "white",
             "minorgridcolor": "white",
             "startlinecolor": "#2a3f5f"
            },
            "type": "carpet"
           }
          ],
          "choropleth": [
           {
            "colorbar": {
             "outlinewidth": 0,
             "ticks": ""
            },
            "type": "choropleth"
           }
          ],
          "contour": [
           {
            "colorbar": {
             "outlinewidth": 0,
             "ticks": ""
            },
            "colorscale": [
             [
              0,
              "#0d0887"
             ],
             [
              0.1111111111111111,
              "#46039f"
             ],
             [
              0.2222222222222222,
              "#7201a8"
             ],
             [
              0.3333333333333333,
              "#9c179e"
             ],
             [
              0.4444444444444444,
              "#bd3786"
             ],
             [
              0.5555555555555556,
              "#d8576b"
             ],
             [
              0.6666666666666666,
              "#ed7953"
             ],
             [
              0.7777777777777778,
              "#fb9f3a"
             ],
             [
              0.8888888888888888,
              "#fdca26"
             ],
             [
              1,
              "#f0f921"
             ]
            ],
            "type": "contour"
           }
          ],
          "contourcarpet": [
           {
            "colorbar": {
             "outlinewidth": 0,
             "ticks": ""
            },
            "type": "contourcarpet"
           }
          ],
          "heatmap": [
           {
            "colorbar": {
             "outlinewidth": 0,
             "ticks": ""
            },
            "colorscale": [
             [
              0,
              "#0d0887"
             ],
             [
              0.1111111111111111,
              "#46039f"
             ],
             [
              0.2222222222222222,
              "#7201a8"
             ],
             [
              0.3333333333333333,
              "#9c179e"
             ],
             [
              0.4444444444444444,
              "#bd3786"
             ],
             [
              0.5555555555555556,
              "#d8576b"
             ],
             [
              0.6666666666666666,
              "#ed7953"
             ],
             [
              0.7777777777777778,
              "#fb9f3a"
             ],
             [
              0.8888888888888888,
              "#fdca26"
             ],
             [
              1,
              "#f0f921"
             ]
            ],
            "type": "heatmap"
           }
          ],
          "heatmapgl": [
           {
            "colorbar": {
             "outlinewidth": 0,
             "ticks": ""
            },
            "colorscale": [
             [
              0,
              "#0d0887"
             ],
             [
              0.1111111111111111,
              "#46039f"
             ],
             [
              0.2222222222222222,
              "#7201a8"
             ],
             [
              0.3333333333333333,
              "#9c179e"
             ],
             [
              0.4444444444444444,
              "#bd3786"
             ],
             [
              0.5555555555555556,
              "#d8576b"
             ],
             [
              0.6666666666666666,
              "#ed7953"
             ],
             [
              0.7777777777777778,
              "#fb9f3a"
             ],
             [
              0.8888888888888888,
              "#fdca26"
             ],
             [
              1,
              "#f0f921"
             ]
            ],
            "type": "heatmapgl"
           }
          ],
          "histogram": [
           {
            "marker": {
             "pattern": {
              "fillmode": "overlay",
              "size": 10,
              "solidity": 0.2
             }
            },
            "type": "histogram"
           }
          ],
          "histogram2d": [
           {
            "colorbar": {
             "outlinewidth": 0,
             "ticks": ""
            },
            "colorscale": [
             [
              0,
              "#0d0887"
             ],
             [
              0.1111111111111111,
              "#46039f"
             ],
             [
              0.2222222222222222,
              "#7201a8"
             ],
             [
              0.3333333333333333,
              "#9c179e"
             ],
             [
              0.4444444444444444,
              "#bd3786"
             ],
             [
              0.5555555555555556,
              "#d8576b"
             ],
             [
              0.6666666666666666,
              "#ed7953"
             ],
             [
              0.7777777777777778,
              "#fb9f3a"
             ],
             [
              0.8888888888888888,
              "#fdca26"
             ],
             [
              1,
              "#f0f921"
             ]
            ],
            "type": "histogram2d"
           }
          ],
          "histogram2dcontour": [
           {
            "colorbar": {
             "outlinewidth": 0,
             "ticks": ""
            },
            "colorscale": [
             [
              0,
              "#0d0887"
             ],
             [
              0.1111111111111111,
              "#46039f"
             ],
             [
              0.2222222222222222,
              "#7201a8"
             ],
             [
              0.3333333333333333,
              "#9c179e"
             ],
             [
              0.4444444444444444,
              "#bd3786"
             ],
             [
              0.5555555555555556,
              "#d8576b"
             ],
             [
              0.6666666666666666,
              "#ed7953"
             ],
             [
              0.7777777777777778,
              "#fb9f3a"
             ],
             [
              0.8888888888888888,
              "#fdca26"
             ],
             [
              1,
              "#f0f921"
             ]
            ],
            "type": "histogram2dcontour"
           }
          ],
          "mesh3d": [
           {
            "colorbar": {
             "outlinewidth": 0,
             "ticks": ""
            },
            "type": "mesh3d"
           }
          ],
          "parcoords": [
           {
            "line": {
             "colorbar": {
              "outlinewidth": 0,
              "ticks": ""
             }
            },
            "type": "parcoords"
           }
          ],
          "pie": [
           {
            "automargin": true,
            "type": "pie"
           }
          ],
          "scatter": [
           {
            "fillpattern": {
             "fillmode": "overlay",
             "size": 10,
             "solidity": 0.2
            },
            "type": "scatter"
           }
          ],
          "scatter3d": [
           {
            "line": {
             "colorbar": {
              "outlinewidth": 0,
              "ticks": ""
             }
            },
            "marker": {
             "colorbar": {
              "outlinewidth": 0,
              "ticks": ""
             }
            },
            "type": "scatter3d"
           }
          ],
          "scattercarpet": [
           {
            "marker": {
             "colorbar": {
              "outlinewidth": 0,
              "ticks": ""
             }
            },
            "type": "scattercarpet"
           }
          ],
          "scattergeo": [
           {
            "marker": {
             "colorbar": {
              "outlinewidth": 0,
              "ticks": ""
             }
            },
            "type": "scattergeo"
           }
          ],
          "scattergl": [
           {
            "marker": {
             "colorbar": {
              "outlinewidth": 0,
              "ticks": ""
             }
            },
            "type": "scattergl"
           }
          ],
          "scattermapbox": [
           {
            "marker": {
             "colorbar": {
              "outlinewidth": 0,
              "ticks": ""
             }
            },
            "type": "scattermapbox"
           }
          ],
          "scatterpolar": [
           {
            "marker": {
             "colorbar": {
              "outlinewidth": 0,
              "ticks": ""
             }
            },
            "type": "scatterpolar"
           }
          ],
          "scatterpolargl": [
           {
            "marker": {
             "colorbar": {
              "outlinewidth": 0,
              "ticks": ""
             }
            },
            "type": "scatterpolargl"
           }
          ],
          "scatterternary": [
           {
            "marker": {
             "colorbar": {
              "outlinewidth": 0,
              "ticks": ""
             }
            },
            "type": "scatterternary"
           }
          ],
          "surface": [
           {
            "colorbar": {
             "outlinewidth": 0,
             "ticks": ""
            },
            "colorscale": [
             [
              0,
              "#0d0887"
             ],
             [
              0.1111111111111111,
              "#46039f"
             ],
             [
              0.2222222222222222,
              "#7201a8"
             ],
             [
              0.3333333333333333,
              "#9c179e"
             ],
             [
              0.4444444444444444,
              "#bd3786"
             ],
             [
              0.5555555555555556,
              "#d8576b"
             ],
             [
              0.6666666666666666,
              "#ed7953"
             ],
             [
              0.7777777777777778,
              "#fb9f3a"
             ],
             [
              0.8888888888888888,
              "#fdca26"
             ],
             [
              1,
              "#f0f921"
             ]
            ],
            "type": "surface"
           }
          ],
          "table": [
           {
            "cells": {
             "fill": {
              "color": "#EBF0F8"
             },
             "line": {
              "color": "white"
             }
            },
            "header": {
             "fill": {
              "color": "#C8D4E3"
             },
             "line": {
              "color": "white"
             }
            },
            "type": "table"
           }
          ]
         },
         "layout": {
          "annotationdefaults": {
           "arrowcolor": "#2a3f5f",
           "arrowhead": 0,
           "arrowwidth": 1
          },
          "autotypenumbers": "strict",
          "coloraxis": {
           "colorbar": {
            "outlinewidth": 0,
            "ticks": ""
           }
          },
          "colorscale": {
           "diverging": [
            [
             0,
             "#8e0152"
            ],
            [
             0.1,
             "#c51b7d"
            ],
            [
             0.2,
             "#de77ae"
            ],
            [
             0.3,
             "#f1b6da"
            ],
            [
             0.4,
             "#fde0ef"
            ],
            [
             0.5,
             "#f7f7f7"
            ],
            [
             0.6,
             "#e6f5d0"
            ],
            [
             0.7,
             "#b8e186"
            ],
            [
             0.8,
             "#7fbc41"
            ],
            [
             0.9,
             "#4d9221"
            ],
            [
             1,
             "#276419"
            ]
           ],
           "sequential": [
            [
             0,
             "#0d0887"
            ],
            [
             0.1111111111111111,
             "#46039f"
            ],
            [
             0.2222222222222222,
             "#7201a8"
            ],
            [
             0.3333333333333333,
             "#9c179e"
            ],
            [
             0.4444444444444444,
             "#bd3786"
            ],
            [
             0.5555555555555556,
             "#d8576b"
            ],
            [
             0.6666666666666666,
             "#ed7953"
            ],
            [
             0.7777777777777778,
             "#fb9f3a"
            ],
            [
             0.8888888888888888,
             "#fdca26"
            ],
            [
             1,
             "#f0f921"
            ]
           ],
           "sequentialminus": [
            [
             0,
             "#0d0887"
            ],
            [
             0.1111111111111111,
             "#46039f"
            ],
            [
             0.2222222222222222,
             "#7201a8"
            ],
            [
             0.3333333333333333,
             "#9c179e"
            ],
            [
             0.4444444444444444,
             "#bd3786"
            ],
            [
             0.5555555555555556,
             "#d8576b"
            ],
            [
             0.6666666666666666,
             "#ed7953"
            ],
            [
             0.7777777777777778,
             "#fb9f3a"
            ],
            [
             0.8888888888888888,
             "#fdca26"
            ],
            [
             1,
             "#f0f921"
            ]
           ]
          },
          "colorway": [
           "#636efa",
           "#EF553B",
           "#00cc96",
           "#ab63fa",
           "#FFA15A",
           "#19d3f3",
           "#FF6692",
           "#B6E880",
           "#FF97FF",
           "#FECB52"
          ],
          "font": {
           "color": "#2a3f5f"
          },
          "geo": {
           "bgcolor": "white",
           "lakecolor": "white",
           "landcolor": "#E5ECF6",
           "showlakes": true,
           "showland": true,
           "subunitcolor": "white"
          },
          "hoverlabel": {
           "align": "left"
          },
          "hovermode": "closest",
          "mapbox": {
           "style": "light"
          },
          "paper_bgcolor": "white",
          "plot_bgcolor": "#E5ECF6",
          "polar": {
           "angularaxis": {
            "gridcolor": "white",
            "linecolor": "white",
            "ticks": ""
           },
           "bgcolor": "#E5ECF6",
           "radialaxis": {
            "gridcolor": "white",
            "linecolor": "white",
            "ticks": ""
           }
          },
          "scene": {
           "xaxis": {
            "backgroundcolor": "#E5ECF6",
            "gridcolor": "white",
            "gridwidth": 2,
            "linecolor": "white",
            "showbackground": true,
            "ticks": "",
            "zerolinecolor": "white"
           },
           "yaxis": {
            "backgroundcolor": "#E5ECF6",
            "gridcolor": "white",
            "gridwidth": 2,
            "linecolor": "white",
            "showbackground": true,
            "ticks": "",
            "zerolinecolor": "white"
           },
           "zaxis": {
            "backgroundcolor": "#E5ECF6",
            "gridcolor": "white",
            "gridwidth": 2,
            "linecolor": "white",
            "showbackground": true,
            "ticks": "",
            "zerolinecolor": "white"
           }
          },
          "shapedefaults": {
           "line": {
            "color": "#2a3f5f"
           }
          },
          "ternary": {
           "aaxis": {
            "gridcolor": "white",
            "linecolor": "white",
            "ticks": ""
           },
           "baxis": {
            "gridcolor": "white",
            "linecolor": "white",
            "ticks": ""
           },
           "bgcolor": "#E5ECF6",
           "caxis": {
            "gridcolor": "white",
            "linecolor": "white",
            "ticks": ""
           }
          },
          "title": {
           "x": 0.05
          },
          "xaxis": {
           "automargin": true,
           "gridcolor": "white",
           "linecolor": "white",
           "ticks": "",
           "title": {
            "standoff": 15
           },
           "zerolinecolor": "white",
           "zerolinewidth": 2
          },
          "yaxis": {
           "automargin": true,
           "gridcolor": "white",
           "linecolor": "white",
           "ticks": "",
           "title": {
            "standoff": 15
           },
           "zerolinecolor": "white",
           "zerolinewidth": 2
          }
         }
        },
        "xaxis": {
         "anchor": "y",
         "domain": [
          0,
          1
         ],
         "title": {
          "text": "value"
         }
        },
        "yaxis": {
         "anchor": "x",
         "domain": [
          0,
          1
         ],
         "title": {
          "text": "count"
         }
        }
       }
      }
     },
     "metadata": {},
     "output_type": "display_data"
    }
   ],
   "source": [
    "import pandas as pd\n",
    "import json\n",
    "\n",
    "pd.options.plotting.backend = \"plotly\"\n",
    "\n",
    "\n",
    "# Load data into a pandas DataFrame\n",
    "data = pd.read_json(\"today_prices.json\")\n",
    "df = pd.DataFrame(data)\n",
    "\n",
    "\n",
    "# Calculate the correlation between stock confidence and close price percentage change\n",
    "volume_close_price_change_corr =df['volume'].corr(df['close_price'])\n",
    "# volume_close_price_corr = df['volume'].corr(df['close_price'])\n",
    "\n",
    "print(\n",
    "    f\"Correlation between volume and close price: {volume_close_price_change_corr:.2f}\"\n",
    ")\n",
    "\n",
    "# Calculate summary statistics for close price\n",
    "close_price_stats = df[\"close_price\"].describe()\n",
    "print(close_price_stats)\n",
    "\n",
    "# Create a histogram of close price\n",
    "df[\"close_price\"].plot.hist()"
   ]
  },
  {
   "cell_type": "code",
   "execution_count": 2,
   "metadata": {},
   "outputs": [
    {
     "data": {
      "application/vnd.plotly.v1+json": {
       "config": {
        "plotlyServerURL": "https://plot.ly"
       },
       "data": [
        {
         "hovertemplate": "volume=%{x}<br>close_price=%{y}<extra></extra>",
         "legendgroup": "",
         "marker": {
          "color": "#636efa",
          "symbol": "circle"
         },
         "mode": "markers",
         "name": "",
         "orientation": "v",
         "showlegend": false,
         "type": "scatter",
         "x": [
          1830,
          20785,
          75,
          585,
          5420,
          96434,
          3933,
          31762,
          39193,
          1693,
          17559,
          133454,
          2610,
          13759,
          370,
          5234,
          3517,
          10137,
          3040,
          3488,
          30,
          25,
          4381,
          18455,
          25,
          7617,
          3292,
          32295,
          3868,
          8076,
          8734,
          668,
          500,
          1775,
          4331,
          36245,
          13098,
          2334,
          731,
          11216,
          18734,
          17637,
          3240,
          1100,
          11058,
          5325,
          60,
          11069,
          76039,
          4739,
          4847,
          25823,
          1850,
          5859,
          193,
          5411,
          26550,
          148,
          5268,
          1095,
          7385,
          7767,
          22130,
          75320,
          30475,
          6729,
          100,
          10125,
          89408,
          33221,
          11468,
          8933,
          26273,
          158133,
          1466,
          1697,
          42886,
          11934,
          7695,
          26831,
          1545,
          65652,
          17,
          12310,
          20,
          1600,
          15216,
          220,
          1225,
          1615,
          3720,
          1810,
          4173,
          19984,
          15761,
          13096,
          96,
          10996,
          7200,
          6647,
          1486,
          20450,
          54127,
          38791,
          8895,
          560,
          3124,
          10601,
          2830,
          29099,
          34239,
          3889,
          160,
          260,
          19401,
          696,
          1059,
          6055,
          1037,
          12380,
          6353,
          2032,
          1962,
          48081,
          2318,
          300,
          14978,
          28112,
          25,
          25,
          20614,
          10521,
          12568,
          98481,
          3637,
          52960,
          24535,
          1780,
          62508,
          2200,
          23700,
          15563,
          5967,
          31632,
          61620,
          4684,
          39108,
          27095,
          8006,
          8464,
          38348,
          12465,
          31475,
          15415,
          60100,
          5155,
          12305,
          39476,
          5269,
          8068,
          23201,
          9541,
          24273,
          2941,
          25,
          34914,
          4959,
          19252,
          5718,
          9278,
          16042,
          7150,
          4242,
          15360,
          6979,
          10684,
          82969,
          3100,
          39697,
          110,
          20,
          7487,
          17780,
          57537,
          27341,
          11082,
          3610,
          6400,
          5697,
          3583,
          4557,
          1240,
          12192,
          12500,
          1100,
          3606,
          36606,
          9505,
          600,
          27201,
          25,
          36853,
          19158,
          806,
          19800,
          26449,
          9000,
          11969,
          4466,
          4833,
          35809,
          113870,
          48446,
          1856,
          58239,
          10849,
          12777,
          5000,
          2180,
          3910,
          22147,
          17472,
          11619,
          6825,
          388,
          6400,
          724,
          402,
          445,
          1274,
          1120,
          26098,
          10535,
          16218,
          2570,
          8314,
          17803,
          67326,
          544,
          6738,
          7406,
          2134,
          9604,
          3775,
          3153,
          1573,
          9465,
          47281,
          3472,
          9410,
          65,
          315,
          77970,
          30694,
          7985,
          274,
          3194,
          130
         ],
         "xaxis": "x",
         "y": [
          598,
          247.3,
          915,
          1270,
          437.2,
          303,
          477,
          227.7,
          405,
          710,
          622,
          262.5,
          615,
          269,
          3265,
          326,
          436,
          333.8,
          504,
          423,
          12244.2,
          745,
          319.2,
          780,
          835,
          312,
          1145,
          477.4,
          725,
          322.6,
          2057,
          615,
          7.37,
          7.21,
          305,
          180,
          685,
          228.9,
          754,
          310.7,
          490,
          313,
          447.4,
          660,
          534,
          1235,
          804.5,
          355.1,
          185.5,
          480,
          454,
          270,
          8.24,
          703.9,
          727.7,
          295,
          425,
          754,
          316,
          261,
          510,
          429,
          227.1,
          224,
          1980,
          423,
          285.1,
          296.5,
          197,
          100.6,
          300,
          336.2,
          422,
          395,
          637,
          1978,
          272.9,
          1585.1,
          372,
          274,
          896,
          174.9,
          901,
          8.1,
          166.1,
          8.16,
          248.1,
          974,
          649.7,
          780,
          415,
          392.9,
          271,
          313,
          330,
          182,
          750,
          275,
          7.94,
          1345.9,
          716,
          8.05,
          317,
          221.8,
          368.9,
          785,
          569,
          444,
          384,
          304,
          342,
          440,
          704,
          735,
          316,
          770,
          2015,
          7.34,
          604.1,
          398,
          327.5,
          825,
          400,
          606.5,
          537,
          7.99,
          7.4,
          259.9,
          750.3,
          755.9,
          8.54,
          2249.9,
          301,
          278,
          404,
          245,
          8.55,
          7.29,
          689,
          7.63,
          9,
          520,
          580.4,
          7.75,
          218.2,
          750,
          191,
          166.2,
          627.3,
          596,
          653,
          564,
          223,
          9.26,
          9.78,
          560,
          1395,
          766,
          465,
          746,
          813,
          599,
          328.6,
          529,
          805.1,
          199.3,
          370,
          362,
          396.7,
          420,
          414,
          245,
          348.4,
          309,
          485,
          323,
          174.2,
          7.75,
          265,
          12465,
          10977,
          298,
          327,
          310.5,
          347,
          307,
          707.9,
          7.55,
          504.9,
          647,
          755,
          635,
          296.9,
          10.19,
          7.63,
          537,
          240,
          248.5,
          7.14,
          310,
          915,
          260,
          505,
          699.9,
          8.1,
          294.1,
          9.7,
          385,
          451,
          335,
          324,
          429,
          228.8,
          1313.3,
          333,
          752,
          320,
          8,
          455,
          265,
          309,
          448,
          822,
          579,
          915,
          7.36,
          600,
          920,
          1000,
          850.6,
          473.1,
          392,
          483.9,
          306.7,
          435,
          544,
          181.4,
          233,
          3920,
          760,
          690,
          425.1,
          463,
          420,
          438,
          1390,
          396,
          254,
          502,
          238,
          21500,
          1700,
          255,
          472,
          357,
          698,
          769,
          798
         ],
         "yaxis": "y"
        }
       ],
       "layout": {
        "legend": {
         "tracegroupgap": 0
        },
        "margin": {
         "t": 60
        },
        "template": {
         "data": {
          "bar": [
           {
            "error_x": {
             "color": "#2a3f5f"
            },
            "error_y": {
             "color": "#2a3f5f"
            },
            "marker": {
             "line": {
              "color": "#E5ECF6",
              "width": 0.5
             },
             "pattern": {
              "fillmode": "overlay",
              "size": 10,
              "solidity": 0.2
             }
            },
            "type": "bar"
           }
          ],
          "barpolar": [
           {
            "marker": {
             "line": {
              "color": "#E5ECF6",
              "width": 0.5
             },
             "pattern": {
              "fillmode": "overlay",
              "size": 10,
              "solidity": 0.2
             }
            },
            "type": "barpolar"
           }
          ],
          "carpet": [
           {
            "aaxis": {
             "endlinecolor": "#2a3f5f",
             "gridcolor": "white",
             "linecolor": "white",
             "minorgridcolor": "white",
             "startlinecolor": "#2a3f5f"
            },
            "baxis": {
             "endlinecolor": "#2a3f5f",
             "gridcolor": "white",
             "linecolor": "white",
             "minorgridcolor": "white",
             "startlinecolor": "#2a3f5f"
            },
            "type": "carpet"
           }
          ],
          "choropleth": [
           {
            "colorbar": {
             "outlinewidth": 0,
             "ticks": ""
            },
            "type": "choropleth"
           }
          ],
          "contour": [
           {
            "colorbar": {
             "outlinewidth": 0,
             "ticks": ""
            },
            "colorscale": [
             [
              0,
              "#0d0887"
             ],
             [
              0.1111111111111111,
              "#46039f"
             ],
             [
              0.2222222222222222,
              "#7201a8"
             ],
             [
              0.3333333333333333,
              "#9c179e"
             ],
             [
              0.4444444444444444,
              "#bd3786"
             ],
             [
              0.5555555555555556,
              "#d8576b"
             ],
             [
              0.6666666666666666,
              "#ed7953"
             ],
             [
              0.7777777777777778,
              "#fb9f3a"
             ],
             [
              0.8888888888888888,
              "#fdca26"
             ],
             [
              1,
              "#f0f921"
             ]
            ],
            "type": "contour"
           }
          ],
          "contourcarpet": [
           {
            "colorbar": {
             "outlinewidth": 0,
             "ticks": ""
            },
            "type": "contourcarpet"
           }
          ],
          "heatmap": [
           {
            "colorbar": {
             "outlinewidth": 0,
             "ticks": ""
            },
            "colorscale": [
             [
              0,
              "#0d0887"
             ],
             [
              0.1111111111111111,
              "#46039f"
             ],
             [
              0.2222222222222222,
              "#7201a8"
             ],
             [
              0.3333333333333333,
              "#9c179e"
             ],
             [
              0.4444444444444444,
              "#bd3786"
             ],
             [
              0.5555555555555556,
              "#d8576b"
             ],
             [
              0.6666666666666666,
              "#ed7953"
             ],
             [
              0.7777777777777778,
              "#fb9f3a"
             ],
             [
              0.8888888888888888,
              "#fdca26"
             ],
             [
              1,
              "#f0f921"
             ]
            ],
            "type": "heatmap"
           }
          ],
          "heatmapgl": [
           {
            "colorbar": {
             "outlinewidth": 0,
             "ticks": ""
            },
            "colorscale": [
             [
              0,
              "#0d0887"
             ],
             [
              0.1111111111111111,
              "#46039f"
             ],
             [
              0.2222222222222222,
              "#7201a8"
             ],
             [
              0.3333333333333333,
              "#9c179e"
             ],
             [
              0.4444444444444444,
              "#bd3786"
             ],
             [
              0.5555555555555556,
              "#d8576b"
             ],
             [
              0.6666666666666666,
              "#ed7953"
             ],
             [
              0.7777777777777778,
              "#fb9f3a"
             ],
             [
              0.8888888888888888,
              "#fdca26"
             ],
             [
              1,
              "#f0f921"
             ]
            ],
            "type": "heatmapgl"
           }
          ],
          "histogram": [
           {
            "marker": {
             "pattern": {
              "fillmode": "overlay",
              "size": 10,
              "solidity": 0.2
             }
            },
            "type": "histogram"
           }
          ],
          "histogram2d": [
           {
            "colorbar": {
             "outlinewidth": 0,
             "ticks": ""
            },
            "colorscale": [
             [
              0,
              "#0d0887"
             ],
             [
              0.1111111111111111,
              "#46039f"
             ],
             [
              0.2222222222222222,
              "#7201a8"
             ],
             [
              0.3333333333333333,
              "#9c179e"
             ],
             [
              0.4444444444444444,
              "#bd3786"
             ],
             [
              0.5555555555555556,
              "#d8576b"
             ],
             [
              0.6666666666666666,
              "#ed7953"
             ],
             [
              0.7777777777777778,
              "#fb9f3a"
             ],
             [
              0.8888888888888888,
              "#fdca26"
             ],
             [
              1,
              "#f0f921"
             ]
            ],
            "type": "histogram2d"
           }
          ],
          "histogram2dcontour": [
           {
            "colorbar": {
             "outlinewidth": 0,
             "ticks": ""
            },
            "colorscale": [
             [
              0,
              "#0d0887"
             ],
             [
              0.1111111111111111,
              "#46039f"
             ],
             [
              0.2222222222222222,
              "#7201a8"
             ],
             [
              0.3333333333333333,
              "#9c179e"
             ],
             [
              0.4444444444444444,
              "#bd3786"
             ],
             [
              0.5555555555555556,
              "#d8576b"
             ],
             [
              0.6666666666666666,
              "#ed7953"
             ],
             [
              0.7777777777777778,
              "#fb9f3a"
             ],
             [
              0.8888888888888888,
              "#fdca26"
             ],
             [
              1,
              "#f0f921"
             ]
            ],
            "type": "histogram2dcontour"
           }
          ],
          "mesh3d": [
           {
            "colorbar": {
             "outlinewidth": 0,
             "ticks": ""
            },
            "type": "mesh3d"
           }
          ],
          "parcoords": [
           {
            "line": {
             "colorbar": {
              "outlinewidth": 0,
              "ticks": ""
             }
            },
            "type": "parcoords"
           }
          ],
          "pie": [
           {
            "automargin": true,
            "type": "pie"
           }
          ],
          "scatter": [
           {
            "fillpattern": {
             "fillmode": "overlay",
             "size": 10,
             "solidity": 0.2
            },
            "type": "scatter"
           }
          ],
          "scatter3d": [
           {
            "line": {
             "colorbar": {
              "outlinewidth": 0,
              "ticks": ""
             }
            },
            "marker": {
             "colorbar": {
              "outlinewidth": 0,
              "ticks": ""
             }
            },
            "type": "scatter3d"
           }
          ],
          "scattercarpet": [
           {
            "marker": {
             "colorbar": {
              "outlinewidth": 0,
              "ticks": ""
             }
            },
            "type": "scattercarpet"
           }
          ],
          "scattergeo": [
           {
            "marker": {
             "colorbar": {
              "outlinewidth": 0,
              "ticks": ""
             }
            },
            "type": "scattergeo"
           }
          ],
          "scattergl": [
           {
            "marker": {
             "colorbar": {
              "outlinewidth": 0,
              "ticks": ""
             }
            },
            "type": "scattergl"
           }
          ],
          "scattermapbox": [
           {
            "marker": {
             "colorbar": {
              "outlinewidth": 0,
              "ticks": ""
             }
            },
            "type": "scattermapbox"
           }
          ],
          "scatterpolar": [
           {
            "marker": {
             "colorbar": {
              "outlinewidth": 0,
              "ticks": ""
             }
            },
            "type": "scatterpolar"
           }
          ],
          "scatterpolargl": [
           {
            "marker": {
             "colorbar": {
              "outlinewidth": 0,
              "ticks": ""
             }
            },
            "type": "scatterpolargl"
           }
          ],
          "scatterternary": [
           {
            "marker": {
             "colorbar": {
              "outlinewidth": 0,
              "ticks": ""
             }
            },
            "type": "scatterternary"
           }
          ],
          "surface": [
           {
            "colorbar": {
             "outlinewidth": 0,
             "ticks": ""
            },
            "colorscale": [
             [
              0,
              "#0d0887"
             ],
             [
              0.1111111111111111,
              "#46039f"
             ],
             [
              0.2222222222222222,
              "#7201a8"
             ],
             [
              0.3333333333333333,
              "#9c179e"
             ],
             [
              0.4444444444444444,
              "#bd3786"
             ],
             [
              0.5555555555555556,
              "#d8576b"
             ],
             [
              0.6666666666666666,
              "#ed7953"
             ],
             [
              0.7777777777777778,
              "#fb9f3a"
             ],
             [
              0.8888888888888888,
              "#fdca26"
             ],
             [
              1,
              "#f0f921"
             ]
            ],
            "type": "surface"
           }
          ],
          "table": [
           {
            "cells": {
             "fill": {
              "color": "#EBF0F8"
             },
             "line": {
              "color": "white"
             }
            },
            "header": {
             "fill": {
              "color": "#C8D4E3"
             },
             "line": {
              "color": "white"
             }
            },
            "type": "table"
           }
          ]
         },
         "layout": {
          "annotationdefaults": {
           "arrowcolor": "#2a3f5f",
           "arrowhead": 0,
           "arrowwidth": 1
          },
          "autotypenumbers": "strict",
          "coloraxis": {
           "colorbar": {
            "outlinewidth": 0,
            "ticks": ""
           }
          },
          "colorscale": {
           "diverging": [
            [
             0,
             "#8e0152"
            ],
            [
             0.1,
             "#c51b7d"
            ],
            [
             0.2,
             "#de77ae"
            ],
            [
             0.3,
             "#f1b6da"
            ],
            [
             0.4,
             "#fde0ef"
            ],
            [
             0.5,
             "#f7f7f7"
            ],
            [
             0.6,
             "#e6f5d0"
            ],
            [
             0.7,
             "#b8e186"
            ],
            [
             0.8,
             "#7fbc41"
            ],
            [
             0.9,
             "#4d9221"
            ],
            [
             1,
             "#276419"
            ]
           ],
           "sequential": [
            [
             0,
             "#0d0887"
            ],
            [
             0.1111111111111111,
             "#46039f"
            ],
            [
             0.2222222222222222,
             "#7201a8"
            ],
            [
             0.3333333333333333,
             "#9c179e"
            ],
            [
             0.4444444444444444,
             "#bd3786"
            ],
            [
             0.5555555555555556,
             "#d8576b"
            ],
            [
             0.6666666666666666,
             "#ed7953"
            ],
            [
             0.7777777777777778,
             "#fb9f3a"
            ],
            [
             0.8888888888888888,
             "#fdca26"
            ],
            [
             1,
             "#f0f921"
            ]
           ],
           "sequentialminus": [
            [
             0,
             "#0d0887"
            ],
            [
             0.1111111111111111,
             "#46039f"
            ],
            [
             0.2222222222222222,
             "#7201a8"
            ],
            [
             0.3333333333333333,
             "#9c179e"
            ],
            [
             0.4444444444444444,
             "#bd3786"
            ],
            [
             0.5555555555555556,
             "#d8576b"
            ],
            [
             0.6666666666666666,
             "#ed7953"
            ],
            [
             0.7777777777777778,
             "#fb9f3a"
            ],
            [
             0.8888888888888888,
             "#fdca26"
            ],
            [
             1,
             "#f0f921"
            ]
           ]
          },
          "colorway": [
           "#636efa",
           "#EF553B",
           "#00cc96",
           "#ab63fa",
           "#FFA15A",
           "#19d3f3",
           "#FF6692",
           "#B6E880",
           "#FF97FF",
           "#FECB52"
          ],
          "font": {
           "color": "#2a3f5f"
          },
          "geo": {
           "bgcolor": "white",
           "lakecolor": "white",
           "landcolor": "#E5ECF6",
           "showlakes": true,
           "showland": true,
           "subunitcolor": "white"
          },
          "hoverlabel": {
           "align": "left"
          },
          "hovermode": "closest",
          "mapbox": {
           "style": "light"
          },
          "paper_bgcolor": "white",
          "plot_bgcolor": "#E5ECF6",
          "polar": {
           "angularaxis": {
            "gridcolor": "white",
            "linecolor": "white",
            "ticks": ""
           },
           "bgcolor": "#E5ECF6",
           "radialaxis": {
            "gridcolor": "white",
            "linecolor": "white",
            "ticks": ""
           }
          },
          "scene": {
           "xaxis": {
            "backgroundcolor": "#E5ECF6",
            "gridcolor": "white",
            "gridwidth": 2,
            "linecolor": "white",
            "showbackground": true,
            "ticks": "",
            "zerolinecolor": "white"
           },
           "yaxis": {
            "backgroundcolor": "#E5ECF6",
            "gridcolor": "white",
            "gridwidth": 2,
            "linecolor": "white",
            "showbackground": true,
            "ticks": "",
            "zerolinecolor": "white"
           },
           "zaxis": {
            "backgroundcolor": "#E5ECF6",
            "gridcolor": "white",
            "gridwidth": 2,
            "linecolor": "white",
            "showbackground": true,
            "ticks": "",
            "zerolinecolor": "white"
           }
          },
          "shapedefaults": {
           "line": {
            "color": "#2a3f5f"
           }
          },
          "ternary": {
           "aaxis": {
            "gridcolor": "white",
            "linecolor": "white",
            "ticks": ""
           },
           "baxis": {
            "gridcolor": "white",
            "linecolor": "white",
            "ticks": ""
           },
           "bgcolor": "#E5ECF6",
           "caxis": {
            "gridcolor": "white",
            "linecolor": "white",
            "ticks": ""
           }
          },
          "title": {
           "x": 0.05
          },
          "xaxis": {
           "automargin": true,
           "gridcolor": "white",
           "linecolor": "white",
           "ticks": "",
           "title": {
            "standoff": 15
           },
           "zerolinecolor": "white",
           "zerolinewidth": 2
          },
          "yaxis": {
           "automargin": true,
           "gridcolor": "white",
           "linecolor": "white",
           "ticks": "",
           "title": {
            "standoff": 15
           },
           "zerolinecolor": "white",
           "zerolinewidth": 2
          }
         }
        },
        "xaxis": {
         "anchor": "y",
         "domain": [
          0,
          1
         ],
         "title": {
          "text": "volume"
         }
        },
        "yaxis": {
         "anchor": "x",
         "domain": [
          0,
          1
         ],
         "title": {
          "text": "close_price"
         }
        }
       }
      }
     },
     "metadata": {},
     "output_type": "display_data"
    }
   ],
   "source": [
    "# Create a scatter plot of stock confidence versus close price percentage change\n",
    "df.plot.scatter(x=\"volume\", y=\"close_price\")"
   ]
  },
  {
   "cell_type": "code",
   "execution_count": 3,
   "metadata": {},
   "outputs": [
    {
     "name": "stdout",
     "output_type": "stream",
     "text": [
      "Correlation between turnover and close price: -0.04\n"
     ]
    }
   ],
   "source": [
    "# Calculate the correlation between turnover and close price\n",
    "turnover_close_price_corr = df[\"turnover\"].corr(df[\"close_price\"])\n",
    "print(f\"Correlation between turnover and close price: {turnover_close_price_corr:.2f}\")"
   ]
  },
  {
   "cell_type": "code",
   "execution_count": 4,
   "metadata": {},
   "outputs": [
    {
     "data": {
      "image/png": "[encoded data removed]",
      "text/plain": [
       "<Figure size 640x480 with 1 Axes>"
      ]
     },
     "metadata": {},
     "output_type": "display_data"
    }
   ],
   "source": [
    "import pandas as pd\n",
    "import matplotlib.pyplot as plt\n",
    "\n",
    "# Load data into a pandas DataFrame\n",
    "df = pd.DataFrame(data)\n",
    "\n",
    "# Sort the DataFrame by volume in descending order\n",
    "df = df.sort_values(by='volume', ascending=False)\n",
    "\n",
    "# Select the top 10 rows\n",
    "top_10 = df.head(10)\n",
    "\n",
    "# Create a bar chart of symbol and volume\n",
    "top_10.plot.bar(x='symbol', y='volume', backend=\"matplotlib\")\n",
    "plt.title('Top 10 Stocks by Volume')\n",
    "plt.show()"
   ]
  },
  {
   "cell_type": "code",
   "execution_count": 5,
   "metadata": {},
   "outputs": [
    {
     "data": {
      "image/png": "[encoded data removed]",
      "text/plain": [
       "<Figure size 640x480 with 1 Axes>"
      ]
     },
     "metadata": {},
     "output_type": "display_data"
    }
   ],
   "source": [
    "import pandas as pd\n",
    "import matplotlib.pyplot as plt\n",
    "\n",
    "pd.options.plotting.backend = \"matplotlib\"\n",
    "\n",
    "# Load data into a pandas DataFrame\n",
    "df = pd.DataFrame(data)\n",
    "\n",
    "# Sort the DataFrame by close_price in descending order\n",
    "df = df.sort_values(by='close_price', ascending=False)\n",
    "\n",
    "# Select the top 10 rows\n",
    "top_10 = df.head(10)\n",
    "\n",
    "# Create a bar chart of symbol and close_price\n",
    "top_10.plot.bar(x='symbol', y='close_price')\n",
    "plt.title('Top 10 Stocks by Closing Price')\n",
    "plt.show()\n"
   ]
  },
  {
   "cell_type": "code",
   "execution_count": 6,
   "metadata": {},
   "outputs": [
    {
     "data": {
      "image/png": "[encoded data removed]",
      "text/plain": [
       "<Figure size 640x480 with 1 Axes>"
      ]
     },
     "metadata": {},
     "output_type": "display_data"
    }
   ],
   "source": [
    "import pandas as pd\n",
    "import matplotlib.pyplot as plt\n",
    "\n",
    "# Load data into a pandas DataFrame\n",
    "df = pd.DataFrame(data)\n",
    "\n",
    "# Sort the DataFrame by close_price in ascending order\n",
    "df = df.sort_values(by=\"close_price\", ascending=True)\n",
    "df = df[df[\"close_price\"] > 100]\n",
    "\n",
    "# Select the top 10 \n",
    "top_10 = df.head(10)\n",
    "\n",
    "# Create a bar chart of symbol and close_price\n",
    "top_10.plot.pie(x=\"symbol\", y=\"close_price\", backend=\"matplotlib\")\n",
    "plt.title(\"Top 10 Stocks by Closing Price\")\n",
    "plt.show()\n"
   ]
  },
  {
   "cell_type": "code",
   "execution_count": 7,
   "metadata": {},
   "outputs": [
    {
     "data": {
      "image/png": "[encoded data removed]",
      "text/plain": [
       "<Figure size 1400x800 with 1 Axes>"
      ]
     },
     "metadata": {},
     "output_type": "display_data"
    }
   ],
   "source": [
    "import pandas as pd\n",
    "import matplotlib.pyplot as plt\n",
    "\n",
    "\n",
    "def autopct(pct):  \n",
    "    # only show the label when it's > 4%\n",
    "    return (\"%.2f\" % pct) if pct > 4 else \"\"\n",
    "\n",
    "\n",
    "# Load data into a pandas DataFrame\n",
    "df = pd.DataFrame(data)\n",
    "\n",
    "# Sort the DataFrame by close_price in descending order\n",
    "df = df.sort_values(by=\"close_price\", ascending=False)\n",
    "\n",
    "# Select the top 10 rows\n",
    "top_10 = df.head(10)\n",
    "\n",
    "# Create a pie chart of transaction by symbol for the top 10 stocks only\n",
    "top_10 = top_10[top_10[\"close_price\"] > 100]\n",
    "top_10.plot.pie(\n",
    "    y=\"close_price\",\n",
    "    labels=top_10[\"symbol\"],\n",
    "    autopct=autopct,\n",
    "    figsize=(14, 8),\n",
    "    backend=\"matplotlib\",\n",
    "    \n",
    ")\n",
    "\n",
    "plt.legend(bbox_to_anchor=(1, 1), loc=\"upper left\")\n",
    "plt.title(\"Transaction by Symbol (Top 10)\")\n",
    "plt.show()"
   ]
  },
  {
   "cell_type": "code",
   "execution_count": 8,
   "metadata": {},
   "outputs": [
    {
     "data": {
      "image/png": "[encoded data removed]",
      "text/plain": [
       "<Figure size 640x480 with 2 Axes>"
      ]
     },
     "metadata": {},
     "output_type": "display_data"
    }
   ],
   "source": [
    "# Create a hexbin plot of vwap versus close_price for the top 10 stocks only\n",
    "top_10.plot.hexbin(x=\"vwap\", y=\"close_price\", gridsize=20, backend=\"matplotlib\")\n",
    "plt.title(\"Vwap vs Close Price (Top 10)\")\n",
    "plt.show()"
   ]
  },
  {
   "cell_type": "markdown",
   "metadata": {},
   "source": [
    "A hexbin plot is a way to visualize the relationship between two numerical variables. It divides the plot area into hexagonal bins, and then represents the number of points within each bin with the color of the hexagon. Hexbin plots are useful for visualizing the underlying patterns in a dataset when there are too many data points to make a scatter plot practical.\n",
    "\n",
    "In pandas, you can create a hexbin plot using the hexbin method of the plot attribute. Here is an example of how to create a hexbin plot in pandas:\n",
    "\n"
   ]
  },
  {
   "cell_type": "code",
   "execution_count": 9,
   "metadata": {},
   "outputs": [
    {
     "data": {
      "image/png": "[encoded data removed]",
      "text/plain": [
       "<Figure size 640x480 with 2 Axes>"
      ]
     },
     "metadata": {},
     "output_type": "display_data"
    }
   ],
   "source": [
    "import pandas as pd\n",
    "import matplotlib.pyplot as plt\n",
    "\n",
    "# Load data into a pandas DataFrame\n",
    "df = pd.DataFrame(data)\n",
    "\n",
    "# Create a hexbin plot of stock_confidence versus close_price\n",
    "df.plot.hexbin(x='stock_confidence', y='close_price', gridsize=50, backend=\"matplotlib\")\n",
    "plt.title('stock_confidence vs Close Price')\n",
    "plt.show()"
   ]
  },
  {
   "cell_type": "markdown",
   "metadata": {},
   "source": []
  }
 ],
 "metadata": {
  "kernelspec": {
   "display_name": "venv",
   "language": "python",
   "name": "python3"
  },
  "language_info": {
   "codemirror_mode": {
    "name": "ipython",
    "version": 3
   },
   "file_extension": ".py",
   "mimetype": "text/x-python",
   "name": "python",
   "nbconvert_exporter": "python",
   "pygments_lexer": "ipython3",
   "version": "3.9.13"
  },
  "orig_nbformat": 4,
  "vscode": {
   "interpreter": {
    "hash": "0bb29dc4a32bdb81c659e7d30d6af5226da3514588d97cdc34b5fbe41f1deda7"
   }
  }
 },
 "nbformat": 4,
 "nbformat_minor": 2
}
